{
 "cells": [
  {
   "cell_type": "markdown",
   "metadata": {},
   "source": [
    "# 01. Data Analysis Process\n",
    "<hr/>\n",
    ">1. Question\n",
    "2. Wrangle\n",
    "3. Explore\n",
    "4. Draw Conclusions \n",
    "5. Communicate \n",
    "\n",
    "\n",
    "### 1. Question \n",
    "\n",
    "궁금한 점. 어떤것을 알고 싶은가? \n",
    "\n",
    "### 2. Wrangle\n",
    "\n",
    "#### 2-1. Data Acuisition\n",
    "#### 2-2. Data Cleaning \n",
    "\n",
    "\n",
    "### 3. Explore \n",
    "data exploration\n",
    "> Build intuition with your data\n",
    "> find patterns of your data\n",
    " \n",
    "### 4. Draw Conclusions (or Make Predictions)\n",
    "\n",
    "prediction : Which movie will peple like ? \n",
    "\n",
    "conclusion : Users hate certain articles. \n",
    "\n",
    "_ Usually requires ** Statistics or Machine Learning ** _\n",
    "\n",
    "> if you want learn more skill with drawing conclusion, than you go to \"Machine learning tutorial\" or something. \n",
    "\n",
    "\n",
    "\n",
    "### 5. Communicate \n",
    "Make your conclusion useful by communication with others \n",
    "- blog post \n",
    "- paper\n",
    "- email\n",
    "- power point \n",
    "- conversation \n",
    "- ** Data visualisation is almost always useful **\n",
    "\n"
   ]
  },
  {
   "cell_type": "markdown",
   "metadata": {},
   "source": [
    "# 02. Intro to CSV \n",
    "<hr/>\n",
    "\n",
    "## Data Wrangling \n",
    "\n",
    "### Data Aquistion\n",
    "many ways to do... \n",
    "- Downloading files \n",
    "- Accessing on API\n",
    "- Scraping a Web Pages\n",
    "- Combine Data from different formats (xlsx , html, xml etc.) \n",
    "(You can Learn more in https://www.udacity.com/course/data-wrangling-with-mongodb--ud032 ) \n",
    "\n",
    "\n",
    "\n",
    "## .CSV \n",
    "csv = Comma Separated Values\n",
    "- like a spredsheet with no formulas\n",
    "- Easy to process with code (unlike .xlsx) \n",
    "\n",
    "\n",
    "\n"
   ]
  },
  {
   "cell_type": "markdown",
   "metadata": {},
   "source": [
    "# 03. CSV in Python\n",
    "<hr/>"
   ]
  },
  {
   "cell_type": "code",
   "execution_count": 1,
   "metadata": {
    "collapsed": true
   },
   "outputs": [],
   "source": [
    "## Representing a CSV as a list of rows \n",
    "\n",
    "# Option 1 : Each row => List \n",
    "\n",
    "csv = [['A1', 'A2', 'A3'],\n",
    "       ['B2', 'B2', 'B3']]\n",
    "\n",
    "# Option 2 : Each row => Dictionary \n",
    "\n",
    "csv2 = [{'name1' : 'A1','name2':'A2', 'name3':'A3' },\n",
    "        {'name1':'B1', 'name2':'B2', 'name3':'B3'}]\n"
   ]
  },
  {
   "cell_type": "markdown",
   "metadata": {},
   "source": [
    "###  Reading .CSV file with Python Library \n",
    "\n",
    ">Good document for understanding \"iterator/iterable\"  \n",
    " https://www.codementor.io/sheena/python-generators-and-iterators-du1082iua"
   ]
  },
  {
   "cell_type": "code",
   "execution_count": 2,
   "metadata": {},
   "outputs": [
    {
     "name": "stdout",
     "output_type": "stream",
     "text": [
      "--------reader : DictReader Class is iterable --------\n",
      "<unicodecsv.py3.DictReader object at 0x1048ee748>\n",
      "--------enrollments----------\n"
     ]
    },
    {
     "data": {
      "text/plain": [
       "{'account_key': '448',\n",
       " 'cancel_date': '2015-01-14',\n",
       " 'days_to_cancel': '65',\n",
       " 'is_canceled': 'True',\n",
       " 'is_udacity': 'True',\n",
       " 'join_date': '2014-11-10',\n",
       " 'status': 'canceled'}"
      ]
     },
     "execution_count": 2,
     "metadata": {},
     "output_type": "execute_result"
    }
   ],
   "source": [
    "import unicodecsv\n",
    "\n",
    "enrollments = []\n",
    "with open('enrollments.csv', 'rb') as f :  #python csv library document says you should read files in 'rb'  \n",
    "    reader = unicodecsv.DictReader(f)\n",
    "\n",
    "    print('--------reader : DictReader Class is iterable --------')\n",
    "    print(reader)\n",
    "\n",
    "    for row in reader:\n",
    "        enrollments.append(row)\n",
    "    \n",
    "print('--------enrollments----------')\n",
    "enrollments[0] "
   ]
  },
  {
   "cell_type": "code",
   "execution_count": 3,
   "metadata": {},
   "outputs": [
    {
     "name": "stdout",
     "output_type": "stream",
     "text": [
      "<unicodecsv.py3.DictReader object at 0x1048ee630>\n"
     ]
    },
    {
     "data": {
      "text/plain": [
       "{'account_key': '448',\n",
       " 'cancel_date': '2015-01-14',\n",
       " 'days_to_cancel': '65',\n",
       " 'is_canceled': 'True',\n",
       " 'is_udacity': 'True',\n",
       " 'join_date': '2014-11-10',\n",
       " 'status': 'canceled'}"
      ]
     },
     "execution_count": 3,
     "metadata": {},
     "output_type": "execute_result"
    }
   ],
   "source": [
    "## Easy way to convert \"iterator -> list \"\n",
    "import unicodecsv\n",
    "\n",
    "with open('enrollments.csv', 'rb') as f :  #python csv library document says you should read files in 'rb'  \n",
    "    reader = unicodecsv.DictReader(f)\n",
    "\n",
    "    #print('--------reader : DictReader Class is iterable --------')\n",
    "    print(reader)\n",
    "    \n",
    "#######################################\n",
    "    \n",
    "    enrollments = list(reader)\n",
    "    \n",
    "#######################################\n",
    "\n",
    "#print('--------enrollments----------')\n",
    "enrollments[0] "
   ]
  },
  {
   "cell_type": "markdown",
   "metadata": {},
   "source": [
    "### Quiz : Python CSV Library "
   ]
  },
  {
   "cell_type": "code",
   "execution_count": 4,
   "metadata": {},
   "outputs": [
    {
     "data": {
      "text/plain": [
       "{'account_key': '256',\n",
       " 'assigned_rating': 'UNGRADED',\n",
       " 'completion_date': '2015-01-16',\n",
       " 'creation_date': '2015-01-14',\n",
       " 'lesson_key': '3176718735',\n",
       " 'processing_state': 'EVALUATED'}"
      ]
     },
     "execution_count": 4,
     "metadata": {},
     "output_type": "execute_result"
    }
   ],
   "source": [
    "## project_submissions.csv \n",
    "\n",
    "import unicodecsv \n",
    "\n",
    "with open('project_submissions.csv', 'rb') as f2 : \n",
    "    reader_iter = unicodecsv.DictReader(f2)\n",
    "    \n",
    "    submissions_list = list(reader_iter)\n",
    "    \n",
    "submissions_list[0]"
   ]
  },
  {
   "cell_type": "code",
   "execution_count": 5,
   "metadata": {},
   "outputs": [
    {
     "data": {
      "text/plain": [
       "{'acct': '0',\n",
       " 'lessons_completed': '0.0',\n",
       " 'num_courses_visited': '1.0',\n",
       " 'projects_completed': '0.0',\n",
       " 'total_minutes_visited': '11.6793745',\n",
       " 'utc_date': '2015-01-09'}"
      ]
     },
     "execution_count": 5,
     "metadata": {},
     "output_type": "execute_result"
    }
   ],
   "source": [
    "##daily_engagement.csv \n",
    "\n",
    "import unicodecsv \n",
    "\n",
    "with open('daily_engagement.csv', 'rb') as f3 : \n",
    "    reader_iter  = unicodecsv.DictReader(f3)\n",
    "    \n",
    "    engagement_list = list(reader_iter)\n",
    "    \n",
    "engagement_list[0]\n"
   ]
  },
  {
   "cell_type": "markdown",
   "metadata": {
    "collapsed": true
   },
   "source": [
    "# 04 Fixing Data Types \n",
    "<hr/>\n",
    "\n",
    "Kind of Data Cleaning "
   ]
  },
  {
   "cell_type": "code",
   "execution_count": 6,
   "metadata": {},
   "outputs": [
    {
     "data": {
      "text/plain": [
       "{'account_key': '448',\n",
       " 'cancel_date': datetime.datetime(2015, 1, 14, 0, 0),\n",
       " 'days_to_cancel': 65,\n",
       " 'is_canceled': True,\n",
       " 'is_udacity': True,\n",
       " 'join_date': datetime.datetime(2014, 11, 10, 0, 0),\n",
       " 'status': 'canceled'}"
      ]
     },
     "execution_count": 6,
     "metadata": {},
     "output_type": "execute_result"
    }
   ],
   "source": [
    "## continue with ... enrollments.csv\n",
    "\n",
    "from datetime import datetime as dt\n",
    "def parse_date(date) : \n",
    "    if date == '' : \n",
    "        return None \n",
    "    else : \n",
    "        return dt.strptime(date , '%Y-%m-%d')\n",
    "    \n",
    "def parse_int(i) : \n",
    "    if i == '' : \n",
    "        return None \n",
    "    else : \n",
    "        return int(i)\n",
    "\n",
    "    \n",
    "for e in enrollments : \n",
    "    e['cancel_date']  = parse_date(e['cancel_date'])\n",
    "    e['join_date']  = parse_date(e['join_date'])\n",
    "    e['days_to_cancel'] = parse_int(e['days_to_cancel'])\n",
    "    e['is_canceled'] = (e['is_canceled'] == 'True')\n",
    "    e['is_udacity'] = (e['is_udacity'] == 'True' )\n",
    "\n",
    "enrollments[0]\n"
   ]
  },
  {
   "cell_type": "code",
   "execution_count": 7,
   "metadata": {},
   "outputs": [
    {
     "data": {
      "text/plain": [
       "{'account_key': '256',\n",
       " 'assigned_rating': 'UNGRADED',\n",
       " 'completion_date': datetime.datetime(2015, 1, 16, 0, 0),\n",
       " 'creation_date': datetime.datetime(2015, 1, 14, 0, 0),\n",
       " 'lesson_key': '3176718735',\n",
       " 'processing_state': 'EVALUATED'}"
      ]
     },
     "execution_count": 7,
     "metadata": {},
     "output_type": "execute_result"
    }
   ],
   "source": [
    "## continue with ...project_submissions.csv\n",
    "'''\n",
    "{'account_key': '256',\n",
    " 'assigned_rating': 'UNGRADED',\n",
    " 'completion_date': '2015-01-16',\n",
    " 'creation_date': '2015-01-14',\n",
    " 'lesson_key': '3176718735',\n",
    " 'processing_state': 'EVALUATED'}\n",
    "'''\n",
    "\n",
    "from datetime import datetime as dt\n",
    "def parse_date(date) : \n",
    "    if date == '' : \n",
    "        return None \n",
    "    else : \n",
    "        return dt.strptime(date , '%Y-%m-%d')\n",
    "    \n",
    "for s in submissions_list : \n",
    "    s['completion_date']  = parse_date(s['completion_date'])\n",
    "    s['creation_date']  = parse_date(s['creation_date'])\n",
    "    \n",
    "submissions_list[0]"
   ]
  },
  {
   "cell_type": "code",
   "execution_count": 8,
   "metadata": {},
   "outputs": [
    {
     "data": {
      "text/plain": [
       "{'acct': '0',\n",
       " 'lessons_completed': 0,\n",
       " 'num_courses_visited': 1,\n",
       " 'projects_completed': 0,\n",
       " 'total_minutes_visited': 11.6793745,\n",
       " 'utc_date': datetime.datetime(2015, 1, 9, 0, 0)}"
      ]
     },
     "execution_count": 8,
     "metadata": {},
     "output_type": "execute_result"
    }
   ],
   "source": [
    "### continue with ... daily_engagement.csv \n",
    "'''\n",
    "{'acct': '0',\n",
    " 'lessons_completed': '0.0',\n",
    " 'num_courses_visited': '1.0',\n",
    " 'projects_completed': '0.0',\n",
    " 'total_minutes_visited': '11.6793745',\n",
    " 'utc_date': '2015-01-09'}\n",
    "'''\n",
    "\n",
    "from datetime import datetime as dt\n",
    "def parse_date(date) : \n",
    "    if date == '' : \n",
    "        return None \n",
    "    else : \n",
    "        return dt.strptime(date , '%Y-%m-%d')\n",
    "    \n",
    "def parse_float(f) : \n",
    "    if f == '' : \n",
    "        return None \n",
    "    else : \n",
    "        return int(float(f))\n",
    "\n",
    "    \n",
    "for e in engagement_list : \n",
    "    e['lessons_completed'] =  parse_float(e['lessons_completed'])\n",
    "    e['num_courses_visited'] = parse_float(e['num_courses_visited'])\n",
    "    e['projects_completed'] = parse_float(e['projects_completed'])\n",
    "    e['total_minutes_visited'] = float(e['total_minutes_visited'])\n",
    "    e['utc_date'] = parse_date(e['utc_date'])\n",
    "    \n",
    "engagement_list[0]"
   ]
  },
  {
   "cell_type": "markdown",
   "metadata": {},
   "source": [
    "# 05. Question Phase : about Student Data\n",
    "<hr/>\n",
    "\n",
    "** Be Curious! **\n",
    "- how long to submit projects ? \n",
    "- how do students who pass their projects differ from those who dont? \n"
   ]
  },
  {
   "cell_type": "markdown",
   "metadata": {},
   "source": [
    "# 06. Investigating the Data \n",
    "<hr/>\n",
    "## Data Cleaning \n",
    "finding the number of unique students "
   ]
  },
  {
   "cell_type": "code",
   "execution_count": 9,
   "metadata": {},
   "outputs": [
    {
     "name": "stdout",
     "output_type": "stream",
     "text": [
      "1640\n",
      "1302\n"
     ]
    }
   ],
   "source": [
    "## enrollments.csv \n",
    "\n",
    "'''\n",
    "{'account_key': '448',\n",
    " 'cancel_date': datetime.datetime(2015, 1, 14, 0, 0),\n",
    " 'days_to_cancel': 65,\n",
    " 'is_canceled': False,\n",
    " 'is_udacity': False,\n",
    " 'join_date': datetime.datetime(2014, 11, 10, 0, 0),\n",
    " 'status': 'canceled'}\n",
    "'''\n",
    "\n",
    "#1\n",
    "print( len(enrollments) )  # total enrollments row number \n",
    "\n",
    "#2 \n",
    "unique_enrolled_students = set( e['account_key'] for e in enrollments  ) \n",
    "\n",
    "print(  len(unique_enrolled_students)  )   # unique students number"
   ]
  },
  {
   "cell_type": "code",
   "execution_count": 10,
   "metadata": {},
   "outputs": [
    {
     "name": "stdout",
     "output_type": "stream",
     "text": [
      "136240\n",
      "1237\n"
     ]
    }
   ],
   "source": [
    "## daily_engagement.csv \n",
    "\n",
    "'''\n",
    "{'acct': '0',\n",
    " 'lessons_completed': 0,\n",
    " 'num_courses_visited': 1,\n",
    " 'projects_completed': 0,\n",
    " 'total_minutes_visited': 11.6793745,\n",
    " 'utc_date': datetime.datetime(2015, 1, 9, 0, 0)}\n",
    "'''\n",
    "\n",
    "#1\n",
    "print( len(engagement_list) )  # total enrollments row number \n",
    "\n",
    "#2 \n",
    "unique_engagement_students = set( e['acct'] for e in engagement_list  ) \n",
    "\n",
    "print(  len(unique_engagement_students)  )   # unique students number"
   ]
  },
  {
   "cell_type": "code",
   "execution_count": 11,
   "metadata": {},
   "outputs": [
    {
     "name": "stdout",
     "output_type": "stream",
     "text": [
      "3642\n",
      "743\n"
     ]
    }
   ],
   "source": [
    "## project_submissions.csv \n",
    "\n",
    "'''\n",
    "{'account_key': '256',\n",
    " 'assigned_rating': 'UNGRADED',\n",
    " 'completion_date': datetime.datetime(2015, 1, 16, 0, 0),\n",
    " 'creation_date': datetime.datetime(2015, 1, 14, 0, 0),\n",
    " 'lesson_key': '3176718735',\n",
    " 'processing_state': 'EVALUATED'}\n",
    "'''\n",
    "\n",
    "#1\n",
    "print( len(submissions_list) )  # total enrollments row number \n",
    "\n",
    "#2 \n",
    "unique_submission_students = set( s['account_key'] for s in submissions_list  ) \n",
    "\n",
    "print(  len(unique_submission_students)  )   # unique students number"
   ]
  },
  {
   "cell_type": "markdown",
   "metadata": {},
   "source": [
    "# 07. Problems in Data \n",
    "<hr/>\n",
    "1. More unique students in enrollment than engagement table\n",
    "> Try later\n",
    "\n",
    "2. 'acct' and 'account_key' name is different \n",
    "> Rename acct column to account_key in daily_engagement table \n"
   ]
  },
  {
   "cell_type": "code",
   "execution_count": 12,
   "metadata": {},
   "outputs": [
    {
     "data": {
      "text/plain": [
       "{'account_key': '0',\n",
       " 'lessons_completed': 0,\n",
       " 'num_courses_visited': 1,\n",
       " 'projects_completed': 0,\n",
       " 'total_minutes_visited': 11.6793745,\n",
       " 'utc_date': datetime.datetime(2015, 1, 9, 0, 0)}"
      ]
     },
     "execution_count": 12,
     "metadata": {},
     "output_type": "execute_result"
    }
   ],
   "source": [
    "# 2nd Problem \n",
    "\n",
    "for e in engagement_list  : \n",
    "    e['account_key'] = e['acct']\n",
    "    e.pop('acct')\n",
    "    \n",
    "engagement_list[0]  \n",
    "    "
   ]
  },
  {
   "cell_type": "code",
   "execution_count": 13,
   "metadata": {
    "collapsed": true
   },
   "outputs": [],
   "source": [
    "# advanced data cleaning \n",
    "# NOW, we can use same function repeatedly because all dataset`s id field name is 'account_key' . \n",
    "\n",
    "#You Must run the above cell before run this cell . \n",
    "\n",
    "def get_unique_students(dataset) : \n",
    "    return set(data['account_key']  for data in dataset)\n",
    "\n",
    "unique_engagement_students = get_unique_students(engagement_list) \n",
    "unique_enrolled_students = get_unique_students(enrollments)\n",
    "unique_submission_students = get_unique_students(submissions_list)\n"
   ]
  },
  {
   "cell_type": "code",
   "execution_count": null,
   "metadata": {
    "collapsed": true
   },
   "outputs": [],
   "source": []
  }
 ],
 "metadata": {
  "anaconda-cloud": {},
  "kernelspec": {
   "display_name": "Python 3",
   "language": "python",
   "name": "python3"
  },
  "language_info": {
   "codemirror_mode": {
    "name": "ipython",
    "version": 3
   },
   "file_extension": ".py",
   "mimetype": "text/x-python",
   "name": "python",
   "nbconvert_exporter": "python",
   "pygments_lexer": "ipython3",
   "version": "3.5.2"
  }
 },
 "nbformat": 4,
 "nbformat_minor": 1
}
